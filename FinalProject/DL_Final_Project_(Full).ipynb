{
  "nbformat": 4,
  "nbformat_minor": 0,
  "metadata": {
    "colab": {
      "provenance": [],
      "toc_visible": true,
      "gpuType": "T4"
    },
    "kernelspec": {
      "name": "python3",
      "display_name": "Python 3"
    },
    "language_info": {
      "name": "python"
    },
    "accelerator": "GPU"
  },
  "cells": [
    {
      "cell_type": "markdown",
      "source": [
        "# 데이터 준비"
      ],
      "metadata": {
        "id": "w27vQkSf_LDf"
      }
    },
    {
      "cell_type": "markdown",
      "source": [
        "## max_length 계산"
      ],
      "metadata": {
        "id": "gpEcw5Mr_TzX"
      }
    },
    {
      "cell_type": "code",
      "source": [
        "import pandas as pd\n",
        "from transformers import RobertaTokenizer\n",
        "\n",
        "# QM9 데이터셋 로드\n",
        "file_path = \"/content/qm9.csv\"\n",
        "qm9_data = pd.read_csv(file_path)\n",
        "\n",
        "# ChemBERTa 토크나이저 로드\n",
        "tokenizer = RobertaTokenizer.from_pretrained(\"seyonec/ChemBERTa-zinc-base-v1\")\n",
        "\n",
        "# 각 SMILES의 토큰 길이 계산 함수\n",
        "def calculate_token_length(smiles):\n",
        "    tokens = tokenizer(smiles, return_tensors=\"pt\", padding=False, truncation=False)\n",
        "    return len(tokens[\"input_ids\"][0])\n",
        "\n",
        "# 각 SMILES의 토큰 길이 계산 및 데이터프레임에 추가\n",
        "qm9_data[\"token_length\"] = qm9_data[\"smiles\"].apply(calculate_token_length)\n",
        "\n",
        "# 길이 분포 통계 확인\n",
        "length_stats = qm9_data[\"token_length\"].describe()\n",
        "print(\"SMILES Token Length Statistics:\")\n",
        "print(length_stats)\n",
        "\n",
        "# 95% 백분위수 계산\n",
        "max_length_95 = int(qm9_data[\"token_length\"].quantile(0.95))\n",
        "print(f\"95%의 SMILES는 {max_length_95} 토큰 이하의 길이를 가집니다.\")\n",
        "\n",
        "# 길이 분포 히스토그램 시각화 (선택적)\n",
        "import matplotlib.pyplot as plt\n",
        "\n",
        "plt.hist(qm9_data[\"token_length\"], bins=30, edgecolor=\"k\")\n",
        "plt.axvline(max_length_95, color=\"r\", linestyle=\"--\", label=f\"95% max_length: {max_length_95}\")\n",
        "plt.title(\"SMILES Token Length Distribution\")\n",
        "plt.xlabel(\"Token Length\")\n",
        "plt.ylabel(\"Frequency\")\n",
        "plt.legend()\n",
        "plt.show()\n"
      ],
      "metadata": {
        "colab": {
          "base_uri": "https://localhost:8080/",
          "height": 673
        },
        "id": "qGcWJhY_UQ7h",
        "outputId": "32239c61-f38d-4adf-8769-35c09a49a691"
      },
      "execution_count": null,
      "outputs": [
        {
          "output_type": "stream",
          "name": "stdout",
          "text": [
            "SMILES Token Length Statistics:\n",
            "count    133885.000000\n",
            "mean         13.157829\n",
            "std           2.571324\n",
            "min           3.000000\n",
            "25%          11.000000\n",
            "50%          13.000000\n",
            "75%          15.000000\n",
            "max          24.000000\n",
            "Name: token_length, dtype: float64\n",
            "95%의 SMILES는 17 토큰 이하의 길이를 가집니다.\n"
          ]
        },
        {
          "output_type": "display_data",
          "data": {
            "text/plain": [
              "<Figure size 640x480 with 1 Axes>"
            ],
            "image/png": "[encoded data removed]"
          },
          "metadata": {}
        }
      ]
    },
    {
      "cell_type": "markdown",
      "source": [
        "## Canonical SMILES 변환\n"
      ],
      "metadata": {
        "id": "Cx3JjRhv_hZE"
      }
    },
    {
      "cell_type": "code",
      "source": [
        "!pip install rdkit"
      ],
      "metadata": {
        "colab": {
          "base_uri": "https://localhost:8080/"
        },
        "id": "9fSqG-79c8cR",
        "outputId": "c741c8eb-57e4-4e0a-97f2-643f05ee766a"
      },
      "execution_count": 3,
      "outputs": [
        {
          "output_type": "stream",
          "name": "stdout",
          "text": [
            "Collecting rdkit\n",
            "  Downloading rdkit-2024.3.6-cp310-cp310-manylinux_2_28_x86_64.whl.metadata (4.0 kB)\n",
            "Requirement already satisfied: numpy in /usr/local/lib/python3.10/dist-packages (from rdkit) (1.26.4)\n",
            "Requirement already satisfied: Pillow in /usr/local/lib/python3.10/dist-packages (from rdkit) (11.0.0)\n",
            "Downloading rdkit-2024.3.6-cp310-cp310-manylinux_2_28_x86_64.whl (32.8 MB)\n",
            "\u001b[2K   \u001b[90m━━━━━━━━━━━━━━━━━━━━━━━━━━━━━━━━━━━━━━━━\u001b[0m \u001b[32m32.8/32.8 MB\u001b[0m \u001b[31m62.7 MB/s\u001b[0m eta \u001b[36m0:00:00\u001b[0m\n",
            "\u001b[?25hInstalling collected packages: rdkit\n",
            "Successfully installed rdkit-2024.3.6\n"
          ]
        }
      ]
    },
    {
      "cell_type": "code",
      "source": [
        "# non Canonical SMILES 비율 확인\n",
        "\n",
        "from rdkit import Chem\n",
        "import pandas as pd\n",
        "\n",
        "# QM9 데이터셋 로드\n",
        "file_path = \"/content/qm9.csv\"  # QM9 데이터 파일 경로\n",
        "qm9_data = pd.read_csv(file_path)\n",
        "\n",
        "# Canonical SMILES 확인 함수\n",
        "def is_canonical(smiles):\n",
        "    try:\n",
        "        mol = Chem.MolFromSmiles(smiles)  # SMILES 문자열을 Mol 객체로 변환\n",
        "        if mol is None:\n",
        "            return False  # 변환 실패\n",
        "        canonical_smiles = Chem.MolToSmiles(mol, canonical=True)  # Canonical SMILES 생성\n",
        "        return smiles == canonical_smiles  # 원본과 Canonical SMILES 비교\n",
        "    except Exception as e:\n",
        "        return False  # 예외 발생 시 False 반환\n",
        "\n",
        "# Canonical SMILES 여부 확인\n",
        "qm9_data[\"is_canonical\"] = qm9_data[\"smiles\"].apply(is_canonical)\n",
        "\n",
        "# 결과 통계\n",
        "canonical_count = qm9_data[\"is_canonical\"].sum()\n",
        "non_canonical_count = len(qm9_data) - canonical_count\n",
        "\n",
        "print(f\"Total samples checked: {len(qm9_data)}\")\n",
        "print(f\"Canonical SMILES count: {canonical_count}\")\n",
        "print(f\"Non-canonical SMILES count: {non_canonical_count}\")\n"
      ],
      "metadata": {
        "colab": {
          "base_uri": "https://localhost:8080/"
        },
        "id": "AWre6GwR9BVY",
        "outputId": "5036f644-2e61-4055-8a74-bc18b145e7cf"
      },
      "execution_count": null,
      "outputs": [
        {
          "output_type": "stream",
          "name": "stdout",
          "text": [
            "Total samples checked: 133885\n",
            "Canonical SMILES count: 51287\n",
            "Non-canonical SMILES count: 82598\n",
            "Non-canonical SMILES samples have been saved to 'non_canonical_smiles.csv'.\n"
          ]
        }
      ]
    },
    {
      "cell_type": "code",
      "source": [
        "from rdkit import Chem\n",
        "import pandas as pd\n",
        "\n",
        "# QM9 데이터셋 로드\n",
        "qm9_data = pd.read_csv(\"/content/qm9.csv\")\n",
        "\n",
        "# Canonical SMILES 변환 함수\n",
        "def convert_to_canonical(smiles):\n",
        "    try:\n",
        "        mol = Chem.MolFromSmiles(smiles)\n",
        "        if mol is None:\n",
        "            return None\n",
        "        return Chem.MolToSmiles(mol, canonical=True)\n",
        "    except Exception:\n",
        "        return None\n",
        "\n",
        "# 데이터셋에 Canonical SMILES 적용\n",
        "qm9_data[\"canonical_smiles\"] = qm9_data[\"smiles\"].apply(convert_to_canonical)\n",
        "\n",
        "# Canonical SMILES가 None인 데이터 제거\n",
        "qm9_data = qm9_data.dropna(subset=[\"canonical_smiles\"])\n",
        "\n",
        "# 확인\n",
        "print(qm9_data.head())\n",
        "\n",
        "# Canonical SMILES 데이터셋 저장\n",
        "qm9_data[[\"canonical_smiles\", \"gap\"]].to_csv(\"qm9_canonical.csv\", index=False)\n"
      ],
      "metadata": {
        "colab": {
          "base_uri": "https://localhost:8080/"
        },
        "id": "cQ8YFnIagLW9",
        "outputId": "464a3b6f-4672-4b64-9ecc-a18bfbc15c74"
      },
      "execution_count": null,
      "outputs": [
        {
          "output_type": "stream",
          "name": "stdout",
          "text": [
            "  mol_id smiles          A           B           C      mu  alpha    homo  \\\n",
            "0  gdb_1      C  157.71180  157.709970  157.706990  0.0000  13.21 -0.3877   \n",
            "1  gdb_2      N  293.60975  293.541110  191.393970  1.6256   9.46 -0.2570   \n",
            "2  gdb_3      O  799.58812  437.903860  282.945450  1.8511   6.31 -0.2928   \n",
            "3  gdb_4    C#C    0.00000   35.610036   35.610036  0.0000  16.28 -0.2845   \n",
            "4  gdb_5    C#N    0.00000   44.593883   44.593883  2.8937  12.99 -0.3604   \n",
            "\n",
            "     lumo     gap  ...         u0       u298       h298       g298     cv  \\\n",
            "0  0.1171  0.5048  ... -40.478930 -40.476062 -40.475117 -40.498597  6.469   \n",
            "1  0.0829  0.3399  ... -56.525887 -56.523026 -56.522082 -56.544961  6.316   \n",
            "2  0.0687  0.3615  ... -76.404702 -76.401867 -76.400922 -76.422349  6.002   \n",
            "3  0.0506  0.3351  ... -77.308427 -77.305527 -77.304583 -77.327429  8.574   \n",
            "4  0.0191  0.3796  ... -93.411888 -93.409370 -93.408425 -93.431246  6.278   \n",
            "\n",
            "      u0_atom   u298_atom   h298_atom   g298_atom  canonical_smiles  \n",
            "0 -395.999595 -398.643290 -401.014647 -372.471772                 C  \n",
            "1 -276.861363 -278.620271 -280.399259 -259.338802                 N  \n",
            "2 -213.087624 -213.974294 -215.159658 -201.407171                 O  \n",
            "3 -385.501997 -387.237686 -389.016047 -365.800724               C#C  \n",
            "4 -301.820534 -302.906752 -304.091489 -288.720028               C#N  \n",
            "\n",
            "[5 rows x 22 columns]\n"
          ]
        }
      ]
    },
    {
      "cell_type": "markdown",
      "source": [
        "## train/test dataset 결정"
      ],
      "metadata": {
        "id": "vPDM7dJbANsf"
      }
    },
    {
      "cell_type": "code",
      "source": [
        "import pandas as pd\n",
        "from sklearn.model_selection import train_test_split\n",
        "\n",
        "# QM9 데이터 로드\n",
        "file_path = \"/content/qm9.csv\"  # QM9 데이터셋 경로\n",
        "qm9_data = pd.read_csv(file_path)\n",
        "\n",
        "# 필요한 열만 추출 (smiles와 gap)\n",
        "data = qm9_data[['smiles', 'gap']].dropna()\n",
        "\n",
        "# Train/Test 데이터셋 분리 (90% Train, 10% Test)\n",
        "train_data, test_data = train_test_split(data, test_size=0.1, random_state=42)\n",
        "\n",
        "# 결과 확인\n",
        "print(f\"Train dataset size: {train_data.shape[0]} rows\")\n",
        "print(f\"Test dataset size: {test_data.shape[0]} rows\")\n",
        "\n",
        "# Train/Test 데이터셋 저장\n",
        "train_data.to_csv(\"qm9_train.csv\", index=False)\n",
        "test_data.to_csv(\"qm9_test.csv\", index=False)\n",
        "\n",
        "print(\"Train/Test datasets have been saved as 'qm9_train.csv' and 'qm9_test.csv'.\")"
      ],
      "metadata": {
        "colab": {
          "base_uri": "https://localhost:8080/"
        },
        "id": "g2KJKXYptann",
        "outputId": "a291d3b5-563e-418a-be48-0445d4c167e3"
      },
      "execution_count": null,
      "outputs": [
        {
          "output_type": "stream",
          "name": "stdout",
          "text": [
            "Train dataset size: 120496 rows\n",
            "Test dataset size: 13389 rows\n",
            "Train/Test datasets have been saved as 'qm9_train.csv' and 'qm9_test.csv'.\n"
          ]
        }
      ]
    },
    {
      "cell_type": "code",
      "source": [
        "import pandas as pd\n",
        "from sklearn.model_selection import train_test_split\n",
        "\n",
        "# QM9 Canonical 데이터 로드\n",
        "file_path = \"/content/qm9_canonical.csv\"  # QM9 Canonical 데이터셋 경로\n",
        "qm9_data = pd.read_csv(file_path)\n",
        "\n",
        "# 필요한 열만 추출 (canonical_smiles와 gap)\n",
        "data = qm9_data[['canonical_smiles', 'gap']].dropna()\n",
        "\n",
        "# Train/Test 데이터셋 분리 (90% Train, 10% Test)\n",
        "train_data, test_data = train_test_split(data, test_size=0.1, random_state=42)\n",
        "\n",
        "# 결과 확인\n",
        "print(f\"Train dataset size: {train_data.shape[0]} rows\")\n",
        "print(f\"Test dataset size: {test_data.shape[0]} rows\")\n",
        "\n",
        "# Train/Test 데이터셋 저장\n",
        "train_data.to_csv(\"qm9_canonical_train.csv\", index=False)\n",
        "test_data.to_csv(\"qm9_canonical_test.csv\", index=False)\n",
        "\n",
        "print(\"Train/Test datasets have been saved as 'qm9_canonical_train.csv' and 'qm9_canonical_test.csv'.\")\n"
      ],
      "metadata": {
        "colab": {
          "base_uri": "https://localhost:8080/"
        },
        "id": "_o67mwr2thdS",
        "outputId": "59ed9391-e24d-4b7e-f4ea-b01e97fbc126"
      },
      "execution_count": null,
      "outputs": [
        {
          "output_type": "stream",
          "name": "stdout",
          "text": [
            "Train dataset size: 120496 rows\n",
            "Test dataset size: 13389 rows\n",
            "Train/Test datasets have been saved as 'qm9_canonical_train.csv' and 'qm9_canonical_test.csv'.\n"
          ]
        }
      ]
    },
    {
      "cell_type": "markdown",
      "source": [
        "# Training / Testing"
      ],
      "metadata": {
        "id": "1Wnr38qpAYSK"
      }
    },
    {
      "cell_type": "markdown",
      "source": [
        "## (Non-canonical) SMILES"
      ],
      "metadata": {
        "id": "c1Aj4TJq3N_-"
      }
    },
    {
      "cell_type": "code",
      "execution_count": null,
      "metadata": {
        "colab": {
          "base_uri": "https://localhost:8080/",
          "height": 504
        },
        "id": "nzdTLe-Ujk-c",
        "outputId": "99cbf86f-57de-4b08-86d1-d7b644dca823"
      },
      "outputs": [
        {
          "output_type": "stream",
          "name": "stderr",
          "text": [
            "Some weights of RobertaForSequenceClassification were not initialized from the model checkpoint at seyonec/ChemBERTa-zinc-base-v1 and are newly initialized: ['classifier.dense.bias', 'classifier.dense.weight', 'classifier.out_proj.bias', 'classifier.out_proj.weight']\n",
            "You should probably TRAIN this model on a down-stream task to be able to use it for predictions and inference.\n",
            "/usr/local/lib/python3.10/dist-packages/transformers/training_args.py:1568: FutureWarning: `evaluation_strategy` is deprecated and will be removed in version 4.46 of 🤗 Transformers. Use `eval_strategy` instead\n",
            "  warnings.warn(\n",
            "\u001b[34m\u001b[1mwandb\u001b[0m: \u001b[33mWARNING\u001b[0m The `run_name` is currently set to the same value as `TrainingArguments.output_dir`. If this was not intended, please specify a different run name by setting the `TrainingArguments.run_name` parameter.\n",
            "\u001b[34m\u001b[1mwandb\u001b[0m: Using wandb-core as the SDK backend.  Please refer to https://wandb.me/wandb-core for more information.\n"
          ]
        },
        {
          "output_type": "display_data",
          "data": {
            "text/plain": [
              "<IPython.core.display.Javascript object>"
            ],
            "application/javascript": [
              "\n",
              "        window._wandbApiKey = new Promise((resolve, reject) => {\n",
              "            function loadScript(url) {\n",
              "            return new Promise(function(resolve, reject) {\n",
              "                let newScript = document.createElement(\"script\");\n",
              "                newScript.onerror = reject;\n",
              "                newScript.onload = resolve;\n",
              "                document.body.appendChild(newScript);\n",
              "                newScript.src = url;\n",
              "            });\n",
              "            }\n",
              "            loadScript(\"https://cdn.jsdelivr.net/npm/postmate/build/postmate.min.js\").then(() => {\n",
              "            const iframe = document.createElement('iframe')\n",
              "            iframe.style.cssText = \"width:0;height:0;border:none\"\n",
              "            document.body.appendChild(iframe)\n",
              "            const handshake = new Postmate({\n",
              "                container: iframe,\n",
              "                url: 'https://wandb.ai/authorize'\n",
              "            });\n",
              "            const timeout = setTimeout(() => reject(\"Couldn't auto authenticate\"), 5000)\n",
              "            handshake.then(function(child) {\n",
              "                child.on('authorize', data => {\n",
              "                    clearTimeout(timeout)\n",
              "                    resolve(data)\n",
              "                });\n",
              "            });\n",
              "            })\n",
              "        });\n",
              "    "
            ]
          },
          "metadata": {}
        },
        {
          "output_type": "stream",
          "name": "stderr",
          "text": [
            "\u001b[34m\u001b[1mwandb\u001b[0m: Logging into wandb.ai. (Learn how to deploy a W&B server locally: https://wandb.me/wandb-server)\n",
            "\u001b[34m\u001b[1mwandb\u001b[0m: You can find your API key in your browser here: https://wandb.ai/authorize\n",
            "wandb: Paste an API key from your profile and hit enter, or press ctrl+c to quit:"
          ]
        },
        {
          "name": "stdout",
          "output_type": "stream",
          "text": [
            " ··········\n"
          ]
        },
        {
          "output_type": "stream",
          "name": "stderr",
          "text": [
            "\u001b[34m\u001b[1mwandb\u001b[0m: Appending key for api.wandb.ai to your netrc file: /root/.netrc\n"
          ]
        },
        {
          "output_type": "display_data",
          "data": {
            "text/plain": [
              "<IPython.core.display.HTML object>"
            ],
            "text/html": [
              "Tracking run with wandb version 0.18.7"
            ]
          },
          "metadata": {}
        },
        {
          "output_type": "display_data",
          "data": {
            "text/plain": [
              "<IPython.core.display.HTML object>"
            ],
            "text/html": [
              "Run data is saved locally in <code>/content/wandb/run-20241208_011606-26afhwwb</code>"
            ]
          },
          "metadata": {}
        },
        {
          "output_type": "display_data",
          "data": {
            "text/plain": [
              "<IPython.core.display.HTML object>"
            ],
            "text/html": [
              "Syncing run <strong><a href='https://wandb.ai/jangjh1907-korea-university/huggingface/runs/26afhwwb' target=\"_blank\">./results</a></strong> to <a href='https://wandb.ai/jangjh1907-korea-university/huggingface' target=\"_blank\">Weights & Biases</a> (<a href='https://wandb.me/developer-guide' target=\"_blank\">docs</a>)<br/>"
            ]
          },
          "metadata": {}
        },
        {
          "output_type": "display_data",
          "data": {
            "text/plain": [
              "<IPython.core.display.HTML object>"
            ],
            "text/html": [
              " View project at <a href='https://wandb.ai/jangjh1907-korea-university/huggingface' target=\"_blank\">https://wandb.ai/jangjh1907-korea-university/huggingface</a>"
            ]
          },
          "metadata": {}
        },
        {
          "output_type": "display_data",
          "data": {
            "text/plain": [
              "<IPython.core.display.HTML object>"
            ],
            "text/html": [
              " View run at <a href='https://wandb.ai/jangjh1907-korea-university/huggingface/runs/26afhwwb' target=\"_blank\">https://wandb.ai/jangjh1907-korea-university/huggingface/runs/26afhwwb</a>"
            ]
          },
          "metadata": {}
        },
        {
          "output_type": "display_data",
          "data": {
            "text/plain": [
              "<IPython.core.display.HTML object>"
            ],
            "text/html": [
              "\n",
              "    <div>\n",
              "      \n",
              "      <progress value='15062' max='15062' style='width:300px; height:20px; vertical-align: middle;'></progress>\n",
              "      [15062/15062 9:15:11, Epoch 2/2]\n",
              "    </div>\n",
              "    <table border=\"1\" class=\"dataframe\">\n",
              "  <thead>\n",
              " <tr style=\"text-align: left;\">\n",
              "      <th>Epoch</th>\n",
              "      <th>Training Loss</th>\n",
              "      <th>Validation Loss</th>\n",
              "    </tr>\n",
              "  </thead>\n",
              "  <tbody>\n",
              "    <tr>\n",
              "      <td>1</td>\n",
              "      <td>0.000800</td>\n",
              "      <td>0.000521</td>\n",
              "    </tr>\n",
              "    <tr>\n",
              "      <td>2</td>\n",
              "      <td>0.000300</td>\n",
              "      <td>0.000344</td>\n",
              "    </tr>\n",
              "  </tbody>\n",
              "</table><p>"
            ]
          },
          "metadata": {}
        },
        {
          "output_type": "stream",
          "name": "stdout",
          "text": [
            "파인튜닝 완료 및 모델 저장 완료!\n"
          ]
        },
        {
          "output_type": "display_data",
          "data": {
            "text/plain": [
              "<IPython.core.display.HTML object>"
            ],
            "text/html": [
              "\n",
              "    <div>\n",
              "      \n",
              "      <progress value='837' max='837' style='width:300px; height:20px; vertical-align: middle;'></progress>\n",
              "      [837/837 09:16]\n",
              "    </div>\n",
              "    "
            ]
          },
          "metadata": {}
        },
        {
          "output_type": "stream",
          "name": "stdout",
          "text": [
            "테스트 데이터 평가 결과: {'eval_loss': 0.000344324012985453, 'eval_runtime': 557.5386, 'eval_samples_per_second': 24.014, 'eval_steps_per_second': 1.501, 'epoch': 2.0}\n"
          ]
        }
      ],
      "source": [
        "from transformers import RobertaTokenizer, RobertaForSequenceClassification, Trainer, TrainingArguments, DataCollatorWithPadding\n",
        "import torch\n",
        "from torch.utils.data import Dataset\n",
        "from sklearn.model_selection import train_test_split\n",
        "import pandas as pd\n",
        "\n",
        "# 모델 및 토크나이저 로드\n",
        "model_name = \"seyonec/ChemBERTa-zinc-base-v1\"\n",
        "tokenizer = RobertaTokenizer.from_pretrained(model_name)\n",
        "model = RobertaForSequenceClassification.from_pretrained(model_name, num_labels=1)\n",
        "\n",
        "# 데이터 로드\n",
        "train_data = pd.read_csv(\"/content/qm9_train.csv\")\n",
        "test_data = pd.read_csv(\"/content/qm9_test.csv\")\n",
        "\n",
        "# SMILES 토큰화\n",
        "class SMILESDataset(Dataset):\n",
        "    def __init__(self, dataframe, tokenizer, target_col):\n",
        "        self.data = dataframe\n",
        "        self.tokenizer = tokenizer\n",
        "        self.target_col = target_col\n",
        "\n",
        "    def __len__(self):\n",
        "        return len(self.data)\n",
        "\n",
        "    def __getitem__(self, idx):\n",
        "        smiles = self.data.iloc[idx]['smiles']\n",
        "        target = self.data.iloc[idx][self.target_col]\n",
        "        tokens = self.tokenizer(smiles, padding='max_length', truncation=True, max_length=20, return_tensors='pt')\n",
        "        item = {key: val.squeeze(0) for key, val in tokens.items()}\n",
        "        item['labels'] = torch.tensor(target, dtype=torch.float)\n",
        "        return item\n",
        "\n",
        "# 데이터셋 준비\n",
        "train_dataset = SMILESDataset(train_data, tokenizer, 'gap')\n",
        "test_dataset = SMILESDataset(test_data, tokenizer, 'gap')\n",
        "\n",
        "# 데이터 Collator\n",
        "data_collator = DataCollatorWithPadding(tokenizer=tokenizer)\n",
        "\n",
        "# 학습 파라미터\n",
        "training_args = TrainingArguments(\n",
        "    output_dir='./results',\n",
        "    evaluation_strategy=\"epoch\",\n",
        "    learning_rate=5e-5,\n",
        "    per_device_train_batch_size=16,  # 배치 크기 축소\n",
        "    per_device_eval_batch_size=16,\n",
        "    num_train_epochs=2,  # 에포크 수\n",
        "    weight_decay=0.01,\n",
        "    logging_dir='./logs',\n",
        "    logging_steps=10,\n",
        ")\n",
        "\n",
        "# Trainer 설정\n",
        "trainer = Trainer(\n",
        "    model=model,\n",
        "    args=training_args,\n",
        "    train_dataset=train_dataset,\n",
        "    eval_dataset=test_dataset,\n",
        "    data_collator=data_collator,\n",
        ")\n",
        "\n",
        "# 모델 학습\n",
        "trainer.train()\n",
        "\n",
        "# 모델 저장\n",
        "model.save_pretrained(\"./jjh/ChemBERTa-smiles-gap\")\n",
        "tokenizer.save_pretrained(\"./jjh/ChemBERTa-smiles-gap\")\n",
        "\n",
        "print(\"파인튜닝 완료 및 모델 저장 완료!\")\n",
        "\n",
        "# 테스트 데이터 평가\n",
        "evaluation_results = trainer.evaluate()\n",
        "print(\"테스트 데이터 평가 결과:\", evaluation_results)\n"
      ]
    },
    {
      "cell_type": "markdown",
      "source": [
        "## Canonical SMILES\n"
      ],
      "metadata": {
        "id": "qwdVszjR3NWm"
      }
    },
    {
      "cell_type": "code",
      "execution_count": null,
      "metadata": {
        "colab": {
          "base_uri": "https://localhost:8080/",
          "height": 504
        },
        "id": "QCg8Oe9omOZM",
        "outputId": "7cfdfe20-110c-4846-eb55-783421a01b26"
      },
      "outputs": [
        {
          "output_type": "stream",
          "name": "stderr",
          "text": [
            "Some weights of RobertaForSequenceClassification were not initialized from the model checkpoint at seyonec/ChemBERTa-zinc-base-v1 and are newly initialized: ['classifier.dense.bias', 'classifier.dense.weight', 'classifier.out_proj.bias', 'classifier.out_proj.weight']\n",
            "You should probably TRAIN this model on a down-stream task to be able to use it for predictions and inference.\n",
            "/usr/local/lib/python3.10/dist-packages/transformers/training_args.py:1568: FutureWarning: `evaluation_strategy` is deprecated and will be removed in version 4.46 of 🤗 Transformers. Use `eval_strategy` instead\n",
            "  warnings.warn(\n",
            "\u001b[34m\u001b[1mwandb\u001b[0m: \u001b[33mWARNING\u001b[0m The `run_name` is currently set to the same value as `TrainingArguments.output_dir`. If this was not intended, please specify a different run name by setting the `TrainingArguments.run_name` parameter.\n",
            "\u001b[34m\u001b[1mwandb\u001b[0m: Using wandb-core as the SDK backend.  Please refer to https://wandb.me/wandb-core for more information.\n"
          ]
        },
        {
          "output_type": "display_data",
          "data": {
            "text/plain": [
              "<IPython.core.display.Javascript object>"
            ],
            "application/javascript": [
              "\n",
              "        window._wandbApiKey = new Promise((resolve, reject) => {\n",
              "            function loadScript(url) {\n",
              "            return new Promise(function(resolve, reject) {\n",
              "                let newScript = document.createElement(\"script\");\n",
              "                newScript.onerror = reject;\n",
              "                newScript.onload = resolve;\n",
              "                document.body.appendChild(newScript);\n",
              "                newScript.src = url;\n",
              "            });\n",
              "            }\n",
              "            loadScript(\"https://cdn.jsdelivr.net/npm/postmate/build/postmate.min.js\").then(() => {\n",
              "            const iframe = document.createElement('iframe')\n",
              "            iframe.style.cssText = \"width:0;height:0;border:none\"\n",
              "            document.body.appendChild(iframe)\n",
              "            const handshake = new Postmate({\n",
              "                container: iframe,\n",
              "                url: 'https://wandb.ai/authorize'\n",
              "            });\n",
              "            const timeout = setTimeout(() => reject(\"Couldn't auto authenticate\"), 5000)\n",
              "            handshake.then(function(child) {\n",
              "                child.on('authorize', data => {\n",
              "                    clearTimeout(timeout)\n",
              "                    resolve(data)\n",
              "                });\n",
              "            });\n",
              "            })\n",
              "        });\n",
              "    "
            ]
          },
          "metadata": {}
        },
        {
          "output_type": "stream",
          "name": "stderr",
          "text": [
            "\u001b[34m\u001b[1mwandb\u001b[0m: Logging into wandb.ai. (Learn how to deploy a W&B server locally: https://wandb.me/wandb-server)\n",
            "\u001b[34m\u001b[1mwandb\u001b[0m: You can find your API key in your browser here: https://wandb.ai/authorize\n",
            "wandb: Paste an API key from your profile and hit enter, or press ctrl+c to quit:"
          ]
        },
        {
          "name": "stdout",
          "output_type": "stream",
          "text": [
            " ··········\n"
          ]
        },
        {
          "output_type": "stream",
          "name": "stderr",
          "text": [
            "\u001b[34m\u001b[1mwandb\u001b[0m: Appending key for api.wandb.ai to your netrc file: /root/.netrc\n"
          ]
        },
        {
          "output_type": "display_data",
          "data": {
            "text/plain": [
              "<IPython.core.display.HTML object>"
            ],
            "text/html": [
              "Tracking run with wandb version 0.18.7"
            ]
          },
          "metadata": {}
        },
        {
          "output_type": "display_data",
          "data": {
            "text/plain": [
              "<IPython.core.display.HTML object>"
            ],
            "text/html": [
              "Run data is saved locally in <code>/content/wandb/run-20241208_011624-0r7ughyv</code>"
            ]
          },
          "metadata": {}
        },
        {
          "output_type": "display_data",
          "data": {
            "text/plain": [
              "<IPython.core.display.HTML object>"
            ],
            "text/html": [
              "Syncing run <strong><a href='https://wandb.ai/jangjh1907-korea-university/huggingface/runs/0r7ughyv' target=\"_blank\">./results</a></strong> to <a href='https://wandb.ai/jangjh1907-korea-university/huggingface' target=\"_blank\">Weights & Biases</a> (<a href='https://wandb.me/developer-guide' target=\"_blank\">docs</a>)<br/>"
            ]
          },
          "metadata": {}
        },
        {
          "output_type": "display_data",
          "data": {
            "text/plain": [
              "<IPython.core.display.HTML object>"
            ],
            "text/html": [
              " View project at <a href='https://wandb.ai/jangjh1907-korea-university/huggingface' target=\"_blank\">https://wandb.ai/jangjh1907-korea-university/huggingface</a>"
            ]
          },
          "metadata": {}
        },
        {
          "output_type": "display_data",
          "data": {
            "text/plain": [
              "<IPython.core.display.HTML object>"
            ],
            "text/html": [
              " View run at <a href='https://wandb.ai/jangjh1907-korea-university/huggingface/runs/0r7ughyv' target=\"_blank\">https://wandb.ai/jangjh1907-korea-university/huggingface/runs/0r7ughyv</a>"
            ]
          },
          "metadata": {}
        },
        {
          "output_type": "display_data",
          "data": {
            "text/plain": [
              "<IPython.core.display.HTML object>"
            ],
            "text/html": [
              "\n",
              "    <div>\n",
              "      \n",
              "      <progress value='15062' max='15062' style='width:300px; height:20px; vertical-align: middle;'></progress>\n",
              "      [15062/15062 8:34:45, Epoch 2/2]\n",
              "    </div>\n",
              "    <table border=\"1\" class=\"dataframe\">\n",
              "  <thead>\n",
              " <tr style=\"text-align: left;\">\n",
              "      <th>Epoch</th>\n",
              "      <th>Training Loss</th>\n",
              "      <th>Validation Loss</th>\n",
              "    </tr>\n",
              "  </thead>\n",
              "  <tbody>\n",
              "    <tr>\n",
              "      <td>1</td>\n",
              "      <td>0.001000</td>\n",
              "      <td>0.001319</td>\n",
              "    </tr>\n",
              "    <tr>\n",
              "      <td>2</td>\n",
              "      <td>0.000400</td>\n",
              "      <td>0.000296</td>\n",
              "    </tr>\n",
              "  </tbody>\n",
              "</table><p>"
            ]
          },
          "metadata": {}
        },
        {
          "output_type": "stream",
          "name": "stdout",
          "text": [
            "파인튜닝 완료 및 모델 저장 완료!\n"
          ]
        },
        {
          "output_type": "display_data",
          "data": {
            "text/plain": [
              "<IPython.core.display.HTML object>"
            ],
            "text/html": [
              "\n",
              "    <div>\n",
              "      \n",
              "      <progress value='837' max='837' style='width:300px; height:20px; vertical-align: middle;'></progress>\n",
              "      [837/837 08:02]\n",
              "    </div>\n",
              "    "
            ]
          },
          "metadata": {}
        },
        {
          "output_type": "stream",
          "name": "stdout",
          "text": [
            "테스트 데이터 평가 결과: {'eval_loss': 0.0002959519624710083, 'eval_runtime': 483.0734, 'eval_samples_per_second': 27.716, 'eval_steps_per_second': 1.733, 'epoch': 2.0}\n"
          ]
        }
      ],
      "source": [
        "from transformers import RobertaTokenizer, RobertaForSequenceClassification, Trainer, TrainingArguments, DataCollatorWithPadding\n",
        "import torch\n",
        "from torch.utils.data import Dataset\n",
        "from sklearn.model_selection import train_test_split\n",
        "import pandas as pd\n",
        "\n",
        "# 모델 및 토크나이저 로드\n",
        "model_name = \"seyonec/ChemBERTa-zinc-base-v1\"\n",
        "tokenizer = RobertaTokenizer.from_pretrained(model_name)\n",
        "model = RobertaForSequenceClassification.from_pretrained(model_name, num_labels=1)\n",
        "\n",
        "# 데이터 로드\n",
        "train_data = pd.read_csv(\"/content/qm9_canonical_train.csv\")\n",
        "test_data = pd.read_csv(\"/content/qm9_canonical_test.csv\")\n",
        "\n",
        "# SMILES 토큰화\n",
        "class SMILESDataset(Dataset):\n",
        "    def __init__(self, dataframe, tokenizer, target_col):\n",
        "        self.data = dataframe\n",
        "        self.tokenizer = tokenizer\n",
        "        self.target_col = target_col\n",
        "\n",
        "    def __len__(self):\n",
        "        return len(self.data)\n",
        "\n",
        "    def __getitem__(self, idx):\n",
        "        smiles = self.data.iloc[idx]['canonical_smiles']\n",
        "        target = self.data.iloc[idx][self.target_col]\n",
        "        tokens = self.tokenizer(smiles, padding='max_length', truncation=True, max_length=20, return_tensors='pt')\n",
        "        item = {key: val.squeeze(0) for key, val in tokens.items()}\n",
        "        item['labels'] = torch.tensor(target, dtype=torch.float)\n",
        "        return item\n",
        "\n",
        "# 데이터셋 준비 (전체 데이터 사용)\n",
        "train_dataset = SMILESDataset(train_data, tokenizer, 'gap')\n",
        "test_dataset = SMILESDataset(test_data, tokenizer, 'gap')\n",
        "\n",
        "# 데이터 Collator\n",
        "data_collator = DataCollatorWithPadding(tokenizer=tokenizer)\n",
        "\n",
        "# 학습 파라미터\n",
        "training_args = TrainingArguments(\n",
        "    output_dir='./results',\n",
        "    evaluation_strategy=\"epoch\",\n",
        "    learning_rate=5e-5,\n",
        "    per_device_train_batch_size=16,  # 배치 크기\n",
        "    per_device_eval_batch_size=16,\n",
        "    num_train_epochs=2,  # 에포크 수\n",
        "    weight_decay=0.01,\n",
        "    logging_dir='./logs',\n",
        "    logging_steps=10,\n",
        ")\n",
        "\n",
        "# Trainer 설정\n",
        "trainer = Trainer(\n",
        "    model=model,\n",
        "    args=training_args,\n",
        "    train_dataset=train_dataset,\n",
        "    eval_dataset=test_dataset,\n",
        "    data_collator=data_collator,\n",
        ")\n",
        "\n",
        "# 모델 학습\n",
        "trainer.train()\n",
        "\n",
        "# 모델 저장\n",
        "model.save_pretrained(\"./jjh/ChemBERTa-canonical_smiles-gap\")\n",
        "tokenizer.save_pretrained(\"./jjh/ChemBERTa-canonical_smiles-gap\")\n",
        "\n",
        "print(\"파인튜닝 완료 및 모델 저장 완료!\")\n",
        "\n",
        "# 테스트 데이터 평가\n",
        "evaluation_results = trainer.evaluate()\n",
        "print(\"테스트 데이터 평가 결과:\", evaluation_results)\n"
      ]
    },
    {
      "cell_type": "markdown",
      "source": [
        "# 기타 코드\n"
      ],
      "metadata": {
        "id": "WUaU2iNtA63q"
      }
    },
    {
      "cell_type": "code",
      "source": [
        "!apt-get install fonts-nanum -y"
      ],
      "metadata": {
        "colab": {
          "base_uri": "https://localhost:8080/"
        },
        "id": "y-AXEYMcBgmI",
        "outputId": "d06348fc-2b60-4f63-b94f-f65b687503cc"
      },
      "execution_count": 4,
      "outputs": [
        {
          "output_type": "stream",
          "name": "stdout",
          "text": [
            "Reading package lists... Done\n",
            "Building dependency tree... Done\n",
            "Reading state information... Done\n",
            "The following NEW packages will be installed:\n",
            "  fonts-nanum\n",
            "0 upgraded, 1 newly installed, 0 to remove and 49 not upgraded.\n",
            "Need to get 10.3 MB of archives.\n",
            "After this operation, 34.1 MB of additional disk space will be used.\n",
            "Get:1 http://archive.ubuntu.com/ubuntu jammy/universe amd64 fonts-nanum all 20200506-1 [10.3 MB]\n",
            "Fetched 10.3 MB in 2s (5,626 kB/s)\n",
            "Selecting previously unselected package fonts-nanum.\n",
            "(Reading database ... 123632 files and directories currently installed.)\n",
            "Preparing to unpack .../fonts-nanum_20200506-1_all.deb ...\n",
            "Unpacking fonts-nanum (20200506-1) ...\n",
            "Setting up fonts-nanum (20200506-1) ...\n",
            "Processing triggers for fontconfig (2.13.1-4.2ubuntu5) ...\n"
          ]
        }
      ]
    },
    {
      "cell_type": "code",
      "source": [
        "from graphviz import Digraph\n",
        "\n",
        "# Create a directed graph\n",
        "flowchart = Digraph(format='png', engine='dot')\n",
        "\n",
        "# 한글 폰트 설정 (Colab 환경에서는 \"NanumGothic\" 폰트 설치 필요)\n",
        "flowchart.attr(fontname=\"NanumGothic\")\n",
        "flowchart.node_attr.update(fontname=\"NanumGothic\")\n",
        "\n",
        "# 데이터 준비 단계\n",
        "flowchart.node(\"A\", \"QM9 데이터셋 준비\")\n",
        "flowchart.node(\"B1\", \"Tokenizer로\\n토큰 길이 확인\\n(max token length 계산)\", shape=\"box\")\n",
        "flowchart.node(\"B2\", \"Rdkit으로\\nCanonical SMILES 변환\\n및 비-Canonical 개수 계산\", shape=\"box\")\n",
        "flowchart.node(\"B3\", \"Training/Test\\nDataset 분리\", shape=\"box\")\n",
        "\n",
        "# Fine tuning 단계\n",
        "flowchart.node(\"C\", \"ChemBERTa 모델 fine-tuning 준비 완료\")\n",
        "flowchart.node(\"D1\", \"SMILES Dataset 학습\", shape=\"box\")\n",
        "flowchart.node(\"D2\", \"Canonical SMILES\\nDataset 학습\", shape=\"box\")\n",
        "\n",
        "# 성능 확인 단계\n",
        "flowchart.node(\"E\", \"MSE를 사용한\\n성능 비교\")\n",
        "flowchart.node(\"F\", \"SMILES vs Canonical SMILES\\n예측 성능 분석\")\n",
        "\n",
        "# 데이터 준비 단계 연결 (병렬 가로 배치)\n",
        "flowchart.edge(\"A\", \"B1\", constraint=\"false\")\n",
        "flowchart.edge(\"A\", \"B2\", constraint=\"false\")\n",
        "flowchart.edge(\"A\", \"B3\", constraint=\"false\")\n",
        "\n",
        "# Fine tuning 단계 연결\n",
        "flowchart.edge(\"B1\", \"C\", constraint=\"true\")\n",
        "flowchart.edge(\"B2\", \"C\", constraint=\"true\")\n",
        "flowchart.edge(\"B3\", \"C\", constraint=\"true\")\n",
        "flowchart.edge(\"C\", \"D1\")\n",
        "flowchart.edge(\"C\", \"D2\")\n",
        "\n",
        "# 성능 확인 단계 연결\n",
        "flowchart.edge(\"D1\", \"E\")\n",
        "flowchart.edge(\"D2\", \"E\")\n",
        "flowchart.edge(\"E\", \"F\")\n",
        "\n",
        "# Save and render the flowchart\n",
        "flowchart.render(\"model_workflow_parallel\", cleanup=True)\n",
        "\n",
        "print(\"Flowchart saved as 'model_workflow_parallel.png'\")\n"
      ],
      "metadata": {
        "colab": {
          "base_uri": "https://localhost:8080/"
        },
        "id": "PF_LDu_MA93k",
        "outputId": "252d4108-a43b-4b58-b5c0-cc548a2c4288"
      },
      "execution_count": 9,
      "outputs": [
        {
          "output_type": "stream",
          "name": "stdout",
          "text": [
            "Flowchart saved as 'model_workflow_parallel.png'\n"
          ]
        }
      ]
    },
    {
      "cell_type": "code",
      "source": [
        "!pip freeze > requirements.txt\n"
      ],
      "metadata": {
        "id": "j4Q2gTedT1WX"
      },
      "execution_count": 5,
      "outputs": []
    },
    {
      "cell_type": "code",
      "source": [
        "!nvidia-smi"
      ],
      "metadata": {
        "colab": {
          "base_uri": "https://localhost:8080/"
        },
        "id": "vPE3rwtrQ0w2",
        "outputId": "5ae85d78-26ca-4d89-af2e-4072d62051a3"
      },
      "execution_count": 1,
      "outputs": [
        {
          "output_type": "stream",
          "name": "stdout",
          "text": [
            "Sun Dec  8 08:04:15 2024       \n",
            "+---------------------------------------------------------------------------------------+\n",
            "| NVIDIA-SMI 535.104.05             Driver Version: 535.104.05   CUDA Version: 12.2     |\n",
            "|-----------------------------------------+----------------------+----------------------+\n",
            "| GPU  Name                 Persistence-M | Bus-Id        Disp.A | Volatile Uncorr. ECC |\n",
            "| Fan  Temp   Perf          Pwr:Usage/Cap |         Memory-Usage | GPU-Util  Compute M. |\n",
            "|                                         |                      |               MIG M. |\n",
            "|=========================================+======================+======================|\n",
            "|   0  Tesla T4                       Off | 00000000:00:04.0 Off |                    0 |\n",
            "| N/A   51C    P8              10W /  70W |      0MiB / 15360MiB |      0%      Default |\n",
            "|                                         |                      |                  N/A |\n",
            "+-----------------------------------------+----------------------+----------------------+\n",
            "                                                                                         \n",
            "+---------------------------------------------------------------------------------------+\n",
            "| Processes:                                                                            |\n",
            "|  GPU   GI   CI        PID   Type   Process name                            GPU Memory |\n",
            "|        ID   ID                                                             Usage      |\n",
            "|=======================================================================================|\n",
            "|  No running processes found                                                           |\n",
            "+---------------------------------------------------------------------------------------+\n"
          ]
        }
      ]
    },
    {
      "cell_type": "code",
      "source": [
        "!cat /proc/cpuinfo | grep 'model name' | uniq\n"
      ],
      "metadata": {
        "colab": {
          "base_uri": "https://localhost:8080/"
        },
        "id": "h8Cvdd-bTVph",
        "outputId": "13afdcca-b566-4560-9dc6-5532f2a8a461"
      },
      "execution_count": 1,
      "outputs": [
        {
          "output_type": "stream",
          "name": "stdout",
          "text": [
            "model name\t: Intel(R) Xeon(R) CPU @ 2.00GHz\n"
          ]
        }
      ]
    },
    {
      "cell_type": "code",
      "source": [
        "import sys\n",
        "import torch\n",
        "\n",
        "print(\"Python version:\", sys.version)\n",
        "print(\"PyTorch version:\", torch.__version__)\n",
        "print(\"CUDA available:\", torch.cuda.is_available())\n",
        "if torch.cuda.is_available():\n",
        "    print(\"CUDA version:\", torch.version.cuda)\n",
        "    print(\"Device name:\", torch.cuda.get_device_name(0))"
      ],
      "metadata": {
        "colab": {
          "base_uri": "https://localhost:8080/"
        },
        "id": "0Z1jljdrQ_Wz",
        "outputId": "e2b3acb2-a7b7-4369-e6de-5710bc77987d"
      },
      "execution_count": 12,
      "outputs": [
        {
          "output_type": "stream",
          "name": "stdout",
          "text": [
            "Python version: 3.10.12 (main, Nov  6 2024, 20:22:13) [GCC 11.4.0]\n",
            "PyTorch version: 2.5.1+cu121\n",
            "CUDA available: False\n"
          ]
        }
      ]
    },
    {
      "cell_type": "code",
      "source": [
        "!lsb_release -a\n"
      ],
      "metadata": {
        "colab": {
          "base_uri": "https://localhost:8080/"
        },
        "id": "TB7QI7p9RBhr",
        "outputId": "b7082367-8b35-4426-a7b0-45b87f13ef8f"
      },
      "execution_count": 4,
      "outputs": [
        {
          "output_type": "stream",
          "name": "stdout",
          "text": [
            "No LSB modules are available.\n",
            "Distributor ID:\tUbuntu\n",
            "Description:\tUbuntu 22.04.3 LTS\n",
            "Release:\t22.04\n",
            "Codename:\tjammy\n"
          ]
        }
      ]
    }
  ]
}